{
 "cells": [
  {
   "cell_type": "markdown",
   "metadata": {},
   "source": [
    "### Note\n",
    "* Instructions have been included for each segment. You do not have to follow them exactly, but they are included to help you think through the steps."
   ]
  },
  {
   "cell_type": "code",
   "execution_count": 191,
   "metadata": {},
   "outputs": [],
   "source": [
    "# Import pandas library\n",
    "import pandas as pd\n",
    "\n",
    "Heroes_File = \"HeroesOfPymoli_purchase_data.csv\"\n",
    "\n",
    "purchase_data = pd.read_csv(Heroes_File)"
   ]
  },
  {
   "cell_type": "code",
   "execution_count": 192,
   "metadata": {},
   "outputs": [
    {
     "data": {
      "text/html": [
       "<div>\n",
       "<style scoped>\n",
       "    .dataframe tbody tr th:only-of-type {\n",
       "        vertical-align: middle;\n",
       "    }\n",
       "\n",
       "    .dataframe tbody tr th {\n",
       "        vertical-align: top;\n",
       "    }\n",
       "\n",
       "    .dataframe thead th {\n",
       "        text-align: right;\n",
       "    }\n",
       "</style>\n",
       "<table border=\"1\" class=\"dataframe\">\n",
       "  <thead>\n",
       "    <tr style=\"text-align: right;\">\n",
       "      <th></th>\n",
       "      <th>Purchase ID</th>\n",
       "      <th>SN</th>\n",
       "      <th>Age</th>\n",
       "      <th>Gender</th>\n",
       "      <th>Item ID</th>\n",
       "      <th>Item Name</th>\n",
       "      <th>Price</th>\n",
       "    </tr>\n",
       "  </thead>\n",
       "  <tbody>\n",
       "    <tr>\n",
       "      <th>0</th>\n",
       "      <td>0</td>\n",
       "      <td>Lisim78</td>\n",
       "      <td>20</td>\n",
       "      <td>Male</td>\n",
       "      <td>108</td>\n",
       "      <td>Extraction, Quickblade Of Trembling Hands</td>\n",
       "      <td>3.53</td>\n",
       "    </tr>\n",
       "    <tr>\n",
       "      <th>1</th>\n",
       "      <td>1</td>\n",
       "      <td>Lisovynya38</td>\n",
       "      <td>40</td>\n",
       "      <td>Male</td>\n",
       "      <td>143</td>\n",
       "      <td>Frenzied Scimitar</td>\n",
       "      <td>1.56</td>\n",
       "    </tr>\n",
       "    <tr>\n",
       "      <th>2</th>\n",
       "      <td>2</td>\n",
       "      <td>Ithergue48</td>\n",
       "      <td>24</td>\n",
       "      <td>Male</td>\n",
       "      <td>92</td>\n",
       "      <td>Final Critic</td>\n",
       "      <td>4.88</td>\n",
       "    </tr>\n",
       "    <tr>\n",
       "      <th>3</th>\n",
       "      <td>3</td>\n",
       "      <td>Chamassasya86</td>\n",
       "      <td>24</td>\n",
       "      <td>Male</td>\n",
       "      <td>100</td>\n",
       "      <td>Blindscythe</td>\n",
       "      <td>3.27</td>\n",
       "    </tr>\n",
       "    <tr>\n",
       "      <th>4</th>\n",
       "      <td>4</td>\n",
       "      <td>Iskosia90</td>\n",
       "      <td>23</td>\n",
       "      <td>Male</td>\n",
       "      <td>131</td>\n",
       "      <td>Fury</td>\n",
       "      <td>1.44</td>\n",
       "    </tr>\n",
       "  </tbody>\n",
       "</table>\n",
       "</div>"
      ],
      "text/plain": [
       "   Purchase ID             SN  Age Gender  Item ID  \\\n",
       "0            0        Lisim78   20   Male      108   \n",
       "1            1    Lisovynya38   40   Male      143   \n",
       "2            2     Ithergue48   24   Male       92   \n",
       "3            3  Chamassasya86   24   Male      100   \n",
       "4            4      Iskosia90   23   Male      131   \n",
       "\n",
       "                                   Item Name  Price  \n",
       "0  Extraction, Quickblade Of Trembling Hands   3.53  \n",
       "1                          Frenzied Scimitar   1.56  \n",
       "2                               Final Critic   4.88  \n",
       "3                                Blindscythe   3.27  \n",
       "4                                       Fury   1.44  "
      ]
     },
     "execution_count": 192,
     "metadata": {},
     "output_type": "execute_result"
    }
   ],
   "source": [
    "purchase_df = pd.DataFrame(purchase_data)\n",
    "purchase_df.head()"
   ]
  },
  {
   "cell_type": "code",
   "execution_count": 193,
   "metadata": {},
   "outputs": [
    {
     "data": {
      "text/html": [
       "<div>\n",
       "<style scoped>\n",
       "    .dataframe tbody tr th:only-of-type {\n",
       "        vertical-align: middle;\n",
       "    }\n",
       "\n",
       "    .dataframe tbody tr th {\n",
       "        vertical-align: top;\n",
       "    }\n",
       "\n",
       "    .dataframe thead th {\n",
       "        text-align: right;\n",
       "    }\n",
       "</style>\n",
       "<table border=\"1\" class=\"dataframe\">\n",
       "  <thead>\n",
       "    <tr style=\"text-align: right;\">\n",
       "      <th></th>\n",
       "      <th>Purchase_ID</th>\n",
       "      <th>Player</th>\n",
       "      <th>Age</th>\n",
       "      <th>Gender</th>\n",
       "      <th>Item_ID</th>\n",
       "      <th>Item_Name</th>\n",
       "      <th>Price</th>\n",
       "    </tr>\n",
       "  </thead>\n",
       "  <tbody>\n",
       "    <tr>\n",
       "      <th>0</th>\n",
       "      <td>0</td>\n",
       "      <td>Lisim78</td>\n",
       "      <td>20</td>\n",
       "      <td>Male</td>\n",
       "      <td>108</td>\n",
       "      <td>Extraction, Quickblade Of Trembling Hands</td>\n",
       "      <td>3.53</td>\n",
       "    </tr>\n",
       "    <tr>\n",
       "      <th>1</th>\n",
       "      <td>1</td>\n",
       "      <td>Lisovynya38</td>\n",
       "      <td>40</td>\n",
       "      <td>Male</td>\n",
       "      <td>143</td>\n",
       "      <td>Frenzied Scimitar</td>\n",
       "      <td>1.56</td>\n",
       "    </tr>\n",
       "    <tr>\n",
       "      <th>2</th>\n",
       "      <td>2</td>\n",
       "      <td>Ithergue48</td>\n",
       "      <td>24</td>\n",
       "      <td>Male</td>\n",
       "      <td>92</td>\n",
       "      <td>Final Critic</td>\n",
       "      <td>4.88</td>\n",
       "    </tr>\n",
       "    <tr>\n",
       "      <th>3</th>\n",
       "      <td>3</td>\n",
       "      <td>Chamassasya86</td>\n",
       "      <td>24</td>\n",
       "      <td>Male</td>\n",
       "      <td>100</td>\n",
       "      <td>Blindscythe</td>\n",
       "      <td>3.27</td>\n",
       "    </tr>\n",
       "    <tr>\n",
       "      <th>4</th>\n",
       "      <td>4</td>\n",
       "      <td>Iskosia90</td>\n",
       "      <td>23</td>\n",
       "      <td>Male</td>\n",
       "      <td>131</td>\n",
       "      <td>Fury</td>\n",
       "      <td>1.44</td>\n",
       "    </tr>\n",
       "  </tbody>\n",
       "</table>\n",
       "</div>"
      ],
      "text/plain": [
       "   Purchase_ID         Player  Age Gender  Item_ID  \\\n",
       "0            0        Lisim78   20   Male      108   \n",
       "1            1    Lisovynya38   40   Male      143   \n",
       "2            2     Ithergue48   24   Male       92   \n",
       "3            3  Chamassasya86   24   Male      100   \n",
       "4            4      Iskosia90   23   Male      131   \n",
       "\n",
       "                                   Item_Name  Price  \n",
       "0  Extraction, Quickblade Of Trembling Hands   3.53  \n",
       "1                          Frenzied Scimitar   1.56  \n",
       "2                               Final Critic   4.88  \n",
       "3                                Blindscythe   3.27  \n",
       "4                                       Fury   1.44  "
      ]
     },
     "execution_count": 193,
     "metadata": {},
     "output_type": "execute_result"
    }
   ],
   "source": [
    "# Using .rename(columns={}) in order to rename columns\n",
    "purchase_rename_df = purchase_df.rename(columns={\"Purchase ID\":\"Purchase_ID\", \"SN\":\"Player\", \"Item ID\": \"Item_ID\", \"Item Name\": \"Item_Name\"})\n",
    "purchase_rename_df.head()"
   ]
  },
  {
   "cell_type": "markdown",
   "metadata": {},
   "source": [
    "# Player Count"
   ]
  },
  {
   "cell_type": "markdown",
   "metadata": {},
   "source": [
    "* Display the total number of players\n"
   ]
  },
  {
   "cell_type": "code",
   "execution_count": 194,
   "metadata": {},
   "outputs": [
    {
     "data": {
      "text/html": [
       "<div>\n",
       "<style scoped>\n",
       "    .dataframe tbody tr th:only-of-type {\n",
       "        vertical-align: middle;\n",
       "    }\n",
       "\n",
       "    .dataframe tbody tr th {\n",
       "        vertical-align: top;\n",
       "    }\n",
       "\n",
       "    .dataframe thead th {\n",
       "        text-align: right;\n",
       "    }\n",
       "</style>\n",
       "<table border=\"1\" class=\"dataframe\">\n",
       "  <thead>\n",
       "    <tr style=\"text-align: right;\">\n",
       "      <th></th>\n",
       "      <th>Total Players</th>\n",
       "    </tr>\n",
       "  </thead>\n",
       "  <tbody>\n",
       "    <tr>\n",
       "      <th>0</th>\n",
       "      <td>576</td>\n",
       "    </tr>\n",
       "  </tbody>\n",
       "</table>\n",
       "</div>"
      ],
      "text/plain": [
       "   Total Players\n",
       "0            576"
      ]
     },
     "execution_count": 194,
     "metadata": {},
     "output_type": "execute_result"
    }
   ],
   "source": [
    "Total_Players = len(purchase_rename_df[\"Player\"].value_counts())\n",
    "\n",
    "# Create a data frame\n",
    "Total_Count_of_Players = pd.DataFrame({\"Total Players\":[Total_Players]})\n",
    "Total_Count_of_Players"
   ]
  },
  {
   "cell_type": "markdown",
   "metadata": {},
   "source": [
    "## Purchasing Analysis (Total)"
   ]
  },
  {
   "cell_type": "markdown",
   "metadata": {},
   "source": [
    "* Run basic calculations to obtain number of unique items, average price, etc.\n",
    "\n",
    "\n",
    "* Create a summary data frame to hold the results\n",
    "\n",
    "\n",
    "* Optional: give the displayed data cleaner formatting\n",
    "\n",
    "\n",
    "* Display the summary data frame\n"
   ]
  },
  {
   "cell_type": "code",
   "execution_count": 195,
   "metadata": {},
   "outputs": [
    {
     "data": {
      "text/plain": [
       "183"
      ]
     },
     "execution_count": 195,
     "metadata": {},
     "output_type": "execute_result"
    }
   ],
   "source": [
    "Unique_Items = purchase_rename_df[\"Item_ID\"].nunique()\n",
    "Unique_Items"
   ]
  },
  {
   "cell_type": "code",
   "execution_count": 196,
   "metadata": {},
   "outputs": [
    {
     "data": {
      "text/plain": [
       "3.050987179487176"
      ]
     },
     "execution_count": 196,
     "metadata": {},
     "output_type": "execute_result"
    }
   ],
   "source": [
    "Average_Price = purchase_rename_df[\"Price\"].mean()\n",
    "Average_Price"
   ]
  },
  {
   "cell_type": "code",
   "execution_count": 197,
   "metadata": {},
   "outputs": [
    {
     "data": {
      "text/plain": [
       "780"
      ]
     },
     "execution_count": 197,
     "metadata": {},
     "output_type": "execute_result"
    }
   ],
   "source": [
    "Total_Number_Of_Purchases = purchase_rename_df[\"Purchase_ID\"].count()\n",
    "Total_Number_Of_Purchases"
   ]
  },
  {
   "cell_type": "code",
   "execution_count": 198,
   "metadata": {},
   "outputs": [
    {
     "data": {
      "text/plain": [
       "2379.77"
      ]
     },
     "execution_count": 198,
     "metadata": {},
     "output_type": "execute_result"
    }
   ],
   "source": [
    "Total_Revenue = purchase_rename_df[\"Price\"].sum()\n",
    "Total_Revenue"
   ]
  },
  {
   "cell_type": "code",
   "execution_count": 199,
   "metadata": {},
   "outputs": [
    {
     "data": {
      "text/html": [
       "<style  type=\"text/css\" >\n",
       "</style><table id=\"T_401b05e2_30ed_11ea_a468_acbc329ded19\" ><thead>    <tr>        <th class=\"blank level0\" ></th>        <th class=\"col_heading level0 col0\" >Number of Unique Items</th>        <th class=\"col_heading level0 col1\" >Average Price</th>        <th class=\"col_heading level0 col2\" >Number of Purchases</th>        <th class=\"col_heading level0 col3\" >Total Revenue</th>    </tr></thead><tbody>\n",
       "                <tr>\n",
       "                        <th id=\"T_401b05e2_30ed_11ea_a468_acbc329ded19level0_row0\" class=\"row_heading level0 row0\" >0</th>\n",
       "                        <td id=\"T_401b05e2_30ed_11ea_a468_acbc329ded19row0_col0\" class=\"data row0 col0\" >183</td>\n",
       "                        <td id=\"T_401b05e2_30ed_11ea_a468_acbc329ded19row0_col1\" class=\"data row0 col1\" >$3.05</td>\n",
       "                        <td id=\"T_401b05e2_30ed_11ea_a468_acbc329ded19row0_col2\" class=\"data row0 col2\" >780</td>\n",
       "                        <td id=\"T_401b05e2_30ed_11ea_a468_acbc329ded19row0_col3\" class=\"data row0 col3\" >$2,379.77</td>\n",
       "            </tr>\n",
       "    </tbody></table>"
      ],
      "text/plain": [
       "<pandas.io.formats.style.Styler at 0x11cc2d2b0>"
      ]
     },
     "execution_count": 199,
     "metadata": {},
     "output_type": "execute_result"
    }
   ],
   "source": [
    "Summary_df_Stats = pd.DataFrame({\"Number of Unique Items\":[Unique_Items],\n",
    "                           \"Average Price\":[Average_Price], \n",
    "                           \"Number of Purchases\": [Total_Number_Of_Purchases], \n",
    "                           \"Total Revenue\": [Total_Revenue]})\n",
    "# Format\n",
    "Summary_df_Stats.style.format({'Average Price':\"${:,.2f}\",\n",
    "                         'Total Revenue': '${:,.2f}'})"
   ]
  },
  {
   "cell_type": "markdown",
   "metadata": {},
   "source": [
    "## Gender Demographics"
   ]
  },
  {
   "cell_type": "markdown",
   "metadata": {},
   "source": [
    "* Percentage and Count of Male Players\n",
    "\n",
    "\n",
    "* Percentage and Count of Female Players\n",
    "\n",
    "\n",
    "* Percentage and Count of Other / Non-Disclosed\n",
    "\n",
    "\n"
   ]
  },
  {
   "cell_type": "code",
   "execution_count": 200,
   "metadata": {},
   "outputs": [
    {
     "data": {
      "text/plain": [
       "Gender\n",
       "Female                    81\n",
       "Male                     484\n",
       "Other / Non-Disclosed     11\n",
       "Name: Player, dtype: int64"
      ]
     },
     "execution_count": 200,
     "metadata": {},
     "output_type": "execute_result"
    }
   ],
   "source": [
    "Count_Gender_Of_Players = purchase_rename_df.groupby(\"Gender\")[\"Player\"].nunique()\n",
    "Count_Gender_Of_Players"
   ]
  },
  {
   "cell_type": "code",
   "execution_count": 207,
   "metadata": {},
   "outputs": [
    {
     "data": {
      "text/plain": [
       "Gender\n",
       "Female                   14.062500\n",
       "Male                     84.027778\n",
       "Other / Non-Disclosed     1.909722\n",
       "Name: Player, dtype: float64"
      ]
     },
     "execution_count": 207,
     "metadata": {},
     "output_type": "execute_result"
    }
   ],
   "source": [
    "# Total count by gender and divivde by total players \n",
    "Percentage_Of_Players = ((Count_Gender_Of_Players  * 100)/ Total_Players)\n",
    "Percentage_Of_Players"
   ]
  },
  {
   "cell_type": "code",
   "execution_count": 208,
   "metadata": {},
   "outputs": [
    {
     "data": {
      "text/plain": [
       "Male                     83.59%\n",
       "Female                   14.49%\n",
       "Other / Non-Disclosed     1.92%\n",
       "Name: Gender, dtype: object"
      ]
     },
     "execution_count": 208,
     "metadata": {},
     "output_type": "execute_result"
    }
   ],
   "source": [
    "Percentage_Gender_Of_Players = purchase_rename_df[\"Gender\"].value_counts(normalize=True).mul(100).round(2).astype(str) + '%'\n",
    "Percentage_Gender_Of_Players"
   ]
  },
  {
   "cell_type": "code",
   "execution_count": 209,
   "metadata": {},
   "outputs": [
    {
     "data": {
      "text/html": [
       "<style  type=\"text/css\" >\n",
       "</style><table id=\"T_e4a62e5e_30ee_11ea_8657_acbc329ded19\" ><thead>    <tr>        <th class=\"blank level0\" ></th>        <th class=\"col_heading level0 col0\" >Percentage of Players</th>        <th class=\"col_heading level0 col1\" >Total Count</th>    </tr>    <tr>        <th class=\"index_name level0\" >Gender</th>        <th class=\"blank\" ></th>        <th class=\"blank\" ></th>    </tr></thead><tbody>\n",
       "                <tr>\n",
       "                        <th id=\"T_e4a62e5e_30ee_11ea_8657_acbc329ded19level0_row0\" class=\"row_heading level0 row0\" >Male</th>\n",
       "                        <td id=\"T_e4a62e5e_30ee_11ea_8657_acbc329ded19row0_col0\" class=\"data row0 col0\" >84.03%</td>\n",
       "                        <td id=\"T_e4a62e5e_30ee_11ea_8657_acbc329ded19row0_col1\" class=\"data row0 col1\" >484</td>\n",
       "            </tr>\n",
       "            <tr>\n",
       "                        <th id=\"T_e4a62e5e_30ee_11ea_8657_acbc329ded19level0_row1\" class=\"row_heading level0 row1\" >Female</th>\n",
       "                        <td id=\"T_e4a62e5e_30ee_11ea_8657_acbc329ded19row1_col0\" class=\"data row1 col0\" >14.06%</td>\n",
       "                        <td id=\"T_e4a62e5e_30ee_11ea_8657_acbc329ded19row1_col1\" class=\"data row1 col1\" >81</td>\n",
       "            </tr>\n",
       "            <tr>\n",
       "                        <th id=\"T_e4a62e5e_30ee_11ea_8657_acbc329ded19level0_row2\" class=\"row_heading level0 row2\" >Other / Non-Disclosed</th>\n",
       "                        <td id=\"T_e4a62e5e_30ee_11ea_8657_acbc329ded19row2_col0\" class=\"data row2 col0\" >1.91%</td>\n",
       "                        <td id=\"T_e4a62e5e_30ee_11ea_8657_acbc329ded19row2_col1\" class=\"data row2 col1\" >11</td>\n",
       "            </tr>\n",
       "    </tbody></table>"
      ],
      "text/plain": [
       "<pandas.io.formats.style.Styler at 0x11cc363c8>"
      ]
     },
     "execution_count": 209,
     "metadata": {},
     "output_type": "execute_result"
    }
   ],
   "source": [
    "# Create dataframe with obtained values\n",
    "# Gender_Stats\n",
    "Gender_Stats = pd.DataFrame({\"Percentage of Players\": Percentage_Of_Players, \"Total Count\": Count_Gender_Of_Players})\n",
    "Gender_Stats.sort_values([\"Percentage of Players\"], ascending = False).style.format({\"Percentage of Players\":\"{:.2f}%\"})\n",
    "\n"
   ]
  },
  {
   "cell_type": "markdown",
   "metadata": {},
   "source": [
    "\n",
    "## Purchasing Analysis (Gender)"
   ]
  },
  {
   "cell_type": "markdown",
   "metadata": {},
   "source": [
    "* Run basic calculations to obtain purchase count, avg. purchase price, avg. purchase total per person etc. by gender\n",
    "\n",
    "\n",
    "\n",
    "\n",
    "* Create a summary data frame to hold the results\n",
    "\n",
    "\n",
    "* Optional: give the displayed data cleaner formatting\n",
    "\n",
    "\n",
    "* Display the summary data frame"
   ]
  },
  {
   "cell_type": "code",
   "execution_count": 210,
   "metadata": {},
   "outputs": [
    {
     "data": {
      "text/plain": [
       "Gender\n",
       "Female                   113\n",
       "Male                     652\n",
       "Other / Non-Disclosed     15\n",
       "Name: Purchase_ID, dtype: int64"
      ]
     },
     "execution_count": 210,
     "metadata": {},
     "output_type": "execute_result"
    }
   ],
   "source": [
    "Purchase_Count_by_Gender = purchase_rename_df.groupby(\"Gender\")[\"Purchase_ID\"].nunique()\n",
    "Purchase_Count_by_Gender"
   ]
  },
  {
   "cell_type": "code",
   "execution_count": 211,
   "metadata": {},
   "outputs": [
    {
     "data": {
      "text/plain": [
       "Gender\n",
       "Female                   3.203009\n",
       "Male                     3.017853\n",
       "Other / Non-Disclosed    3.346000\n",
       "Name: Price, dtype: float64"
      ]
     },
     "execution_count": 211,
     "metadata": {},
     "output_type": "execute_result"
    }
   ],
   "source": [
    "Avg_Purchase_Price = purchase_rename_df.groupby(\"Gender\")[\"Price\"].mean()\n",
    "Avg_Purchase_Price"
   ]
  },
  {
   "cell_type": "code",
   "execution_count": 212,
   "metadata": {},
   "outputs": [
    {
     "data": {
      "text/plain": [
       "Gender\n",
       "Female                    361.94\n",
       "Male                     1967.64\n",
       "Other / Non-Disclosed      50.19\n",
       "Name: Price, dtype: float64"
      ]
     },
     "execution_count": 212,
     "metadata": {},
     "output_type": "execute_result"
    }
   ],
   "source": [
    "Total_Purchase_Value = purchase_rename_df.groupby(\"Gender\")[\"Price\"].sum()\n",
    "Total_Purchase_Value"
   ]
  },
  {
   "cell_type": "code",
   "execution_count": 213,
   "metadata": {},
   "outputs": [
    {
     "data": {
      "text/plain": [
       "Gender\n",
       "Female                   4.468395\n",
       "Male                     4.065372\n",
       "Other / Non-Disclosed    4.562727\n",
       "dtype: float64"
      ]
     },
     "execution_count": 213,
     "metadata": {},
     "output_type": "execute_result"
    }
   ],
   "source": [
    "Avg_Total_Purchase_Person = Total_Purchase_Value / Count_Gender_Of_Players\n",
    "Avg_Total_Purchase_Person"
   ]
  },
  {
   "cell_type": "code",
   "execution_count": 214,
   "metadata": {},
   "outputs": [
    {
     "data": {
      "text/html": [
       "<style  type=\"text/css\" >\n",
       "</style><table id=\"T_f545fcda_30ee_11ea_a2eb_acbc329ded19\" ><thead>    <tr>        <th class=\"blank level0\" ></th>        <th class=\"col_heading level0 col0\" >Purchase Count</th>        <th class=\"col_heading level0 col1\" >Average Purchase Price</th>        <th class=\"col_heading level0 col2\" >Total Purchase Value</th>        <th class=\"col_heading level0 col3\" >Avg Total Purchase per Person</th>    </tr>    <tr>        <th class=\"index_name level0\" >Gender</th>        <th class=\"blank\" ></th>        <th class=\"blank\" ></th>        <th class=\"blank\" ></th>        <th class=\"blank\" ></th>    </tr></thead><tbody>\n",
       "                <tr>\n",
       "                        <th id=\"T_f545fcda_30ee_11ea_a2eb_acbc329ded19level0_row0\" class=\"row_heading level0 row0\" >Female</th>\n",
       "                        <td id=\"T_f545fcda_30ee_11ea_a2eb_acbc329ded19row0_col0\" class=\"data row0 col0\" >113</td>\n",
       "                        <td id=\"T_f545fcda_30ee_11ea_a2eb_acbc329ded19row0_col1\" class=\"data row0 col1\" >$3.20</td>\n",
       "                        <td id=\"T_f545fcda_30ee_11ea_a2eb_acbc329ded19row0_col2\" class=\"data row0 col2\" >$361.94</td>\n",
       "                        <td id=\"T_f545fcda_30ee_11ea_a2eb_acbc329ded19row0_col3\" class=\"data row0 col3\" >$4.47</td>\n",
       "            </tr>\n",
       "            <tr>\n",
       "                        <th id=\"T_f545fcda_30ee_11ea_a2eb_acbc329ded19level0_row1\" class=\"row_heading level0 row1\" >Male</th>\n",
       "                        <td id=\"T_f545fcda_30ee_11ea_a2eb_acbc329ded19row1_col0\" class=\"data row1 col0\" >652</td>\n",
       "                        <td id=\"T_f545fcda_30ee_11ea_a2eb_acbc329ded19row1_col1\" class=\"data row1 col1\" >$3.02</td>\n",
       "                        <td id=\"T_f545fcda_30ee_11ea_a2eb_acbc329ded19row1_col2\" class=\"data row1 col2\" >$1,967.64</td>\n",
       "                        <td id=\"T_f545fcda_30ee_11ea_a2eb_acbc329ded19row1_col3\" class=\"data row1 col3\" >$4.07</td>\n",
       "            </tr>\n",
       "            <tr>\n",
       "                        <th id=\"T_f545fcda_30ee_11ea_a2eb_acbc329ded19level0_row2\" class=\"row_heading level0 row2\" >Other / Non-Disclosed</th>\n",
       "                        <td id=\"T_f545fcda_30ee_11ea_a2eb_acbc329ded19row2_col0\" class=\"data row2 col0\" >15</td>\n",
       "                        <td id=\"T_f545fcda_30ee_11ea_a2eb_acbc329ded19row2_col1\" class=\"data row2 col1\" >$3.35</td>\n",
       "                        <td id=\"T_f545fcda_30ee_11ea_a2eb_acbc329ded19row2_col2\" class=\"data row2 col2\" >$50.19</td>\n",
       "                        <td id=\"T_f545fcda_30ee_11ea_a2eb_acbc329ded19row2_col3\" class=\"data row2 col3\" >$4.56</td>\n",
       "            </tr>\n",
       "    </tbody></table>"
      ],
      "text/plain": [
       "<pandas.io.formats.style.Styler at 0x11cd04240>"
      ]
     },
     "execution_count": 214,
     "metadata": {},
     "output_type": "execute_result"
    }
   ],
   "source": [
    "Purchasing_Analysis_by_Gender = pd.DataFrame({\"Purchase Count\": Purchase_Count_by_Gender, \n",
    "                                    \"Average Purchase Price\": Avg_Purchase_Price,\n",
    "                                    \"Total Purchase Value\":Total_Purchase_Value,\n",
    "                                    \"Avg Total Purchase per Person\": Avg_Total_Purchase_Person})\n",
    "# Assign Gender at the top let of the corner\n",
    "Purchasing_Analysis_by_Gender.index.name = \"Gender\"\n",
    "\n",
    "# Format \n",
    "Purchasing_Analysis_by_Gender.style.format({\"Total Purchase Value\":\"${:,.2f}\",\n",
    "                                  \"Average Purchase Price\":\"${:,.2f}\",\n",
    "                                  \"Avg Total Purchase per Person\":\"${:,.2f}\"})"
   ]
  },
  {
   "cell_type": "markdown",
   "metadata": {},
   "source": [
    "## Age Demographics"
   ]
  },
  {
   "cell_type": "markdown",
   "metadata": {},
   "source": [
    "* Establish bins for ages\n",
    "\n",
    "\n",
    "* Categorize the existing players using the age bins. Hint: use pd.cut()\n",
    "\n",
    "\n",
    "* Calculate the numbers and percentages by age group\n",
    "\n",
    "\n",
    "* Create a summary data frame to hold the results\n",
    "\n",
    "\n",
    "* Optional: round the percentage column to two decimal points\n",
    "\n",
    "\n",
    "* Display Age Demographics Table\n"
   ]
  },
  {
   "cell_type": "code",
   "execution_count": 215,
   "metadata": {},
   "outputs": [
    {
     "data": {
      "text/plain": [
       "Age\n",
       "<10         24\n",
       "10 - 14     15\n",
       "15 - 19    107\n",
       "20 - 24    258\n",
       "25 - 29     77\n",
       "30 - 34     52\n",
       "35 - 39     31\n",
       "40+         12\n",
       "Name: Player, dtype: int64"
      ]
     },
     "execution_count": 215,
     "metadata": {},
     "output_type": "execute_result"
    }
   ],
   "source": [
    "bins=[0,10,14,19,24,29,34,39,9999]\n",
    "labels=['<10','10 - 14','15 - 19','20 - 24','25 - 29','30 - 34','35 - 39','40+']\n",
    "Binned_Purchase_Data =purchase_rename_df.groupby (pd.cut(purchase_rename_df['Age'], bins=bins, labels=labels)).nunique()\n",
    "Binned_Purchase_Data[\"Player\"]"
   ]
  },
  {
   "cell_type": "code",
   "execution_count": 216,
   "metadata": {},
   "outputs": [
    {
     "data": {
      "text/plain": [
       "Age\n",
       "<10         4.166667\n",
       "10 - 14     2.604167\n",
       "15 - 19    18.576389\n",
       "20 - 24    44.791667\n",
       "25 - 29    13.368056\n",
       "30 - 34     9.027778\n",
       "35 - 39     5.381944\n",
       "40+         2.083333\n",
       "Name: Player, dtype: float64"
      ]
     },
     "execution_count": 216,
     "metadata": {},
     "output_type": "execute_result"
    }
   ],
   "source": [
    "Percentage_Of_Players=(Binned_Purchase_Data['Player']/Total_Players)*100\n",
    "Percentage_Of_Players"
   ]
  },
  {
   "cell_type": "code",
   "execution_count": 217,
   "metadata": {},
   "outputs": [
    {
     "data": {
      "text/html": [
       "<style  type=\"text/css\" >\n",
       "</style><table id=\"T_1fba0e02_30ef_11ea_8723_acbc329ded19\" ><thead>    <tr>        <th class=\"blank level0\" ></th>        <th class=\"col_heading level0 col0\" >Total Count</th>        <th class=\"col_heading level0 col1\" >Percentage of Players</th>    </tr>    <tr>        <th class=\"index_name level0\" >Age</th>        <th class=\"blank\" ></th>        <th class=\"blank\" ></th>    </tr></thead><tbody>\n",
       "                <tr>\n",
       "                        <th id=\"T_1fba0e02_30ef_11ea_8723_acbc329ded19level0_row0\" class=\"row_heading level0 row0\" ><10</th>\n",
       "                        <td id=\"T_1fba0e02_30ef_11ea_8723_acbc329ded19row0_col0\" class=\"data row0 col0\" >24</td>\n",
       "                        <td id=\"T_1fba0e02_30ef_11ea_8723_acbc329ded19row0_col1\" class=\"data row0 col1\" >4.17%</td>\n",
       "            </tr>\n",
       "            <tr>\n",
       "                        <th id=\"T_1fba0e02_30ef_11ea_8723_acbc329ded19level0_row1\" class=\"row_heading level0 row1\" >10 - 14</th>\n",
       "                        <td id=\"T_1fba0e02_30ef_11ea_8723_acbc329ded19row1_col0\" class=\"data row1 col0\" >15</td>\n",
       "                        <td id=\"T_1fba0e02_30ef_11ea_8723_acbc329ded19row1_col1\" class=\"data row1 col1\" >2.60%</td>\n",
       "            </tr>\n",
       "            <tr>\n",
       "                        <th id=\"T_1fba0e02_30ef_11ea_8723_acbc329ded19level0_row2\" class=\"row_heading level0 row2\" >15 - 19</th>\n",
       "                        <td id=\"T_1fba0e02_30ef_11ea_8723_acbc329ded19row2_col0\" class=\"data row2 col0\" >107</td>\n",
       "                        <td id=\"T_1fba0e02_30ef_11ea_8723_acbc329ded19row2_col1\" class=\"data row2 col1\" >18.58%</td>\n",
       "            </tr>\n",
       "            <tr>\n",
       "                        <th id=\"T_1fba0e02_30ef_11ea_8723_acbc329ded19level0_row3\" class=\"row_heading level0 row3\" >20 - 24</th>\n",
       "                        <td id=\"T_1fba0e02_30ef_11ea_8723_acbc329ded19row3_col0\" class=\"data row3 col0\" >258</td>\n",
       "                        <td id=\"T_1fba0e02_30ef_11ea_8723_acbc329ded19row3_col1\" class=\"data row3 col1\" >44.79%</td>\n",
       "            </tr>\n",
       "            <tr>\n",
       "                        <th id=\"T_1fba0e02_30ef_11ea_8723_acbc329ded19level0_row4\" class=\"row_heading level0 row4\" >25 - 29</th>\n",
       "                        <td id=\"T_1fba0e02_30ef_11ea_8723_acbc329ded19row4_col0\" class=\"data row4 col0\" >77</td>\n",
       "                        <td id=\"T_1fba0e02_30ef_11ea_8723_acbc329ded19row4_col1\" class=\"data row4 col1\" >13.37%</td>\n",
       "            </tr>\n",
       "            <tr>\n",
       "                        <th id=\"T_1fba0e02_30ef_11ea_8723_acbc329ded19level0_row5\" class=\"row_heading level0 row5\" >30 - 34</th>\n",
       "                        <td id=\"T_1fba0e02_30ef_11ea_8723_acbc329ded19row5_col0\" class=\"data row5 col0\" >52</td>\n",
       "                        <td id=\"T_1fba0e02_30ef_11ea_8723_acbc329ded19row5_col1\" class=\"data row5 col1\" >9.03%</td>\n",
       "            </tr>\n",
       "            <tr>\n",
       "                        <th id=\"T_1fba0e02_30ef_11ea_8723_acbc329ded19level0_row6\" class=\"row_heading level0 row6\" >35 - 39</th>\n",
       "                        <td id=\"T_1fba0e02_30ef_11ea_8723_acbc329ded19row6_col0\" class=\"data row6 col0\" >31</td>\n",
       "                        <td id=\"T_1fba0e02_30ef_11ea_8723_acbc329ded19row6_col1\" class=\"data row6 col1\" >5.38%</td>\n",
       "            </tr>\n",
       "            <tr>\n",
       "                        <th id=\"T_1fba0e02_30ef_11ea_8723_acbc329ded19level0_row7\" class=\"row_heading level0 row7\" >40+</th>\n",
       "                        <td id=\"T_1fba0e02_30ef_11ea_8723_acbc329ded19row7_col0\" class=\"data row7 col0\" >12</td>\n",
       "                        <td id=\"T_1fba0e02_30ef_11ea_8723_acbc329ded19row7_col1\" class=\"data row7 col1\" >2.08%</td>\n",
       "            </tr>\n",
       "    </tbody></table>"
      ],
      "text/plain": [
       "<pandas.io.formats.style.Styler at 0x11cd049b0>"
      ]
     },
     "execution_count": 217,
     "metadata": {},
     "output_type": "execute_result"
    }
   ],
   "source": [
    "Age_Demographics = pd.DataFrame({\"Total Count\": Binned_Purchase_Data[\"Player\"], \n",
    "                                    \"Percentage of Players\": Percentage_Of_Players,\n",
    "                                   })\n",
    "# Format Age Demographics\n",
    "Age_Demographics.style.format({\"Percentage of Players\":\"{:,.2f}\"+\"%\"})\n"
   ]
  },
  {
   "cell_type": "markdown",
   "metadata": {},
   "source": [
    "## Purchasing Analysis (Age)"
   ]
  },
  {
   "cell_type": "markdown",
   "metadata": {},
   "source": [
    "* Bin the purchase_data data frame by age\n",
    "\n",
    "\n",
    "* Run basic calculations to obtain purchase count, avg. purchase price, avg. purchase total per person etc. in the table below\n",
    "\n",
    "\n",
    "* Create a summary data frame to hold the results\n",
    "\n",
    "\n",
    "* Optional: give the displayed data cleaner formatting\n",
    "\n",
    "\n",
    "* Display the summary data frame"
   ]
  },
  {
   "cell_type": "code",
   "execution_count": 218,
   "metadata": {},
   "outputs": [
    {
     "data": {
      "text/plain": [
       "Age\n",
       "<10         32\n",
       "10 - 14     19\n",
       "15 - 19    136\n",
       "20 - 24    365\n",
       "25 - 29    101\n",
       "30 - 34     73\n",
       "35 - 39     41\n",
       "40+         13\n",
       "Name: Purchase_ID, dtype: int64"
      ]
     },
     "execution_count": 218,
     "metadata": {},
     "output_type": "execute_result"
    }
   ],
   "source": [
    "# Purchase Count\n",
    "Purchase_Count_by_Age = Binned_Purchase_Data [\"Purchase_ID\"]\n",
    "Purchase_Count_by_Age\n"
   ]
  },
  {
   "cell_type": "code",
   "execution_count": 219,
   "metadata": {},
   "outputs": [
    {
     "data": {
      "text/plain": [
       "Age\n",
       "<10        3.405000\n",
       "10 - 14    2.681579\n",
       "15 - 19    3.035956\n",
       "20 - 24    3.052219\n",
       "25 - 29    2.900990\n",
       "30 - 34    2.931507\n",
       "35 - 39    3.601707\n",
       "40+        2.941538\n",
       "Name: Price, dtype: float64"
      ]
     },
     "execution_count": 219,
     "metadata": {},
     "output_type": "execute_result"
    }
   ],
   "source": [
    "# Average Purchase Price by Age\n",
    "\n",
    "Average_Purchase_Price_by_Age =purchase_rename_df.groupby (pd.cut(purchase_rename_df['Age'], bins=bins, labels=labels)).mean()\n",
    "Average_Purchase_Price_by_Age['Price']"
   ]
  },
  {
   "cell_type": "code",
   "execution_count": 220,
   "metadata": {},
   "outputs": [
    {
     "data": {
      "text/plain": [
       "Age\n",
       "<10         108.96\n",
       "10 - 14      50.95\n",
       "15 - 19     412.89\n",
       "20 - 24    1114.06\n",
       "25 - 29     293.00\n",
       "30 - 34     214.00\n",
       "35 - 39     147.67\n",
       "40+          38.24\n",
       "Name: Price, dtype: float64"
      ]
     },
     "execution_count": 220,
     "metadata": {},
     "output_type": "execute_result"
    }
   ],
   "source": [
    "# Total Purchase Value by Age\n",
    "\n",
    "Total_Purchase_Price_by_Age =purchase_rename_df.groupby (pd.cut(purchase_rename_df['Age'], bins=bins, labels=labels)).sum()\n",
    "Total_Purchase_Price_by_Age[\"Price\"]"
   ]
  },
  {
   "cell_type": "code",
   "execution_count": 221,
   "metadata": {},
   "outputs": [
    {
     "data": {
      "text/plain": [
       "Age\n",
       "<10        4.540000\n",
       "10 - 14    3.396667\n",
       "15 - 19    3.858785\n",
       "20 - 24    4.318062\n",
       "25 - 29    3.805195\n",
       "30 - 34    4.115385\n",
       "35 - 39    4.763548\n",
       "40+        3.186667\n",
       "dtype: float64"
      ]
     },
     "execution_count": 221,
     "metadata": {},
     "output_type": "execute_result"
    }
   ],
   "source": [
    "Avg_Total_Purchase_Person_by_Age = Total_Purchase_Price_by_Age[\"Price\"] / Binned_Purchase_Data[\"Player\"]\n",
    "Avg_Total_Purchase_Person_by_Age"
   ]
  },
  {
   "cell_type": "code",
   "execution_count": 222,
   "metadata": {},
   "outputs": [
    {
     "data": {
      "text/html": [
       "<style  type=\"text/css\" >\n",
       "</style><table id=\"T_8984c49e_30ef_11ea_b19b_acbc329ded19\" ><thead>    <tr>        <th class=\"blank level0\" ></th>        <th class=\"col_heading level0 col0\" >Purchase Count</th>        <th class=\"col_heading level0 col1\" >Average Purchase Price</th>        <th class=\"col_heading level0 col2\" >Total Purchase Value</th>        <th class=\"col_heading level0 col3\" >Avg Total Purchase per Person</th>    </tr>    <tr>        <th class=\"index_name level0\" >Age</th>        <th class=\"blank\" ></th>        <th class=\"blank\" ></th>        <th class=\"blank\" ></th>        <th class=\"blank\" ></th>    </tr></thead><tbody>\n",
       "                <tr>\n",
       "                        <th id=\"T_8984c49e_30ef_11ea_b19b_acbc329ded19level0_row0\" class=\"row_heading level0 row0\" ><10</th>\n",
       "                        <td id=\"T_8984c49e_30ef_11ea_b19b_acbc329ded19row0_col0\" class=\"data row0 col0\" >32</td>\n",
       "                        <td id=\"T_8984c49e_30ef_11ea_b19b_acbc329ded19row0_col1\" class=\"data row0 col1\" >$3.40</td>\n",
       "                        <td id=\"T_8984c49e_30ef_11ea_b19b_acbc329ded19row0_col2\" class=\"data row0 col2\" >$108.96</td>\n",
       "                        <td id=\"T_8984c49e_30ef_11ea_b19b_acbc329ded19row0_col3\" class=\"data row0 col3\" >$4.54</td>\n",
       "            </tr>\n",
       "            <tr>\n",
       "                        <th id=\"T_8984c49e_30ef_11ea_b19b_acbc329ded19level0_row1\" class=\"row_heading level0 row1\" >10 - 14</th>\n",
       "                        <td id=\"T_8984c49e_30ef_11ea_b19b_acbc329ded19row1_col0\" class=\"data row1 col0\" >19</td>\n",
       "                        <td id=\"T_8984c49e_30ef_11ea_b19b_acbc329ded19row1_col1\" class=\"data row1 col1\" >$2.68</td>\n",
       "                        <td id=\"T_8984c49e_30ef_11ea_b19b_acbc329ded19row1_col2\" class=\"data row1 col2\" >$50.95</td>\n",
       "                        <td id=\"T_8984c49e_30ef_11ea_b19b_acbc329ded19row1_col3\" class=\"data row1 col3\" >$3.40</td>\n",
       "            </tr>\n",
       "            <tr>\n",
       "                        <th id=\"T_8984c49e_30ef_11ea_b19b_acbc329ded19level0_row2\" class=\"row_heading level0 row2\" >15 - 19</th>\n",
       "                        <td id=\"T_8984c49e_30ef_11ea_b19b_acbc329ded19row2_col0\" class=\"data row2 col0\" >136</td>\n",
       "                        <td id=\"T_8984c49e_30ef_11ea_b19b_acbc329ded19row2_col1\" class=\"data row2 col1\" >$3.04</td>\n",
       "                        <td id=\"T_8984c49e_30ef_11ea_b19b_acbc329ded19row2_col2\" class=\"data row2 col2\" >$412.89</td>\n",
       "                        <td id=\"T_8984c49e_30ef_11ea_b19b_acbc329ded19row2_col3\" class=\"data row2 col3\" >$3.86</td>\n",
       "            </tr>\n",
       "            <tr>\n",
       "                        <th id=\"T_8984c49e_30ef_11ea_b19b_acbc329ded19level0_row3\" class=\"row_heading level0 row3\" >20 - 24</th>\n",
       "                        <td id=\"T_8984c49e_30ef_11ea_b19b_acbc329ded19row3_col0\" class=\"data row3 col0\" >365</td>\n",
       "                        <td id=\"T_8984c49e_30ef_11ea_b19b_acbc329ded19row3_col1\" class=\"data row3 col1\" >$3.05</td>\n",
       "                        <td id=\"T_8984c49e_30ef_11ea_b19b_acbc329ded19row3_col2\" class=\"data row3 col2\" >$1,114.06</td>\n",
       "                        <td id=\"T_8984c49e_30ef_11ea_b19b_acbc329ded19row3_col3\" class=\"data row3 col3\" >$4.32</td>\n",
       "            </tr>\n",
       "            <tr>\n",
       "                        <th id=\"T_8984c49e_30ef_11ea_b19b_acbc329ded19level0_row4\" class=\"row_heading level0 row4\" >25 - 29</th>\n",
       "                        <td id=\"T_8984c49e_30ef_11ea_b19b_acbc329ded19row4_col0\" class=\"data row4 col0\" >101</td>\n",
       "                        <td id=\"T_8984c49e_30ef_11ea_b19b_acbc329ded19row4_col1\" class=\"data row4 col1\" >$2.90</td>\n",
       "                        <td id=\"T_8984c49e_30ef_11ea_b19b_acbc329ded19row4_col2\" class=\"data row4 col2\" >$293.00</td>\n",
       "                        <td id=\"T_8984c49e_30ef_11ea_b19b_acbc329ded19row4_col3\" class=\"data row4 col3\" >$3.81</td>\n",
       "            </tr>\n",
       "            <tr>\n",
       "                        <th id=\"T_8984c49e_30ef_11ea_b19b_acbc329ded19level0_row5\" class=\"row_heading level0 row5\" >30 - 34</th>\n",
       "                        <td id=\"T_8984c49e_30ef_11ea_b19b_acbc329ded19row5_col0\" class=\"data row5 col0\" >73</td>\n",
       "                        <td id=\"T_8984c49e_30ef_11ea_b19b_acbc329ded19row5_col1\" class=\"data row5 col1\" >$2.93</td>\n",
       "                        <td id=\"T_8984c49e_30ef_11ea_b19b_acbc329ded19row5_col2\" class=\"data row5 col2\" >$214.00</td>\n",
       "                        <td id=\"T_8984c49e_30ef_11ea_b19b_acbc329ded19row5_col3\" class=\"data row5 col3\" >$4.12</td>\n",
       "            </tr>\n",
       "            <tr>\n",
       "                        <th id=\"T_8984c49e_30ef_11ea_b19b_acbc329ded19level0_row6\" class=\"row_heading level0 row6\" >35 - 39</th>\n",
       "                        <td id=\"T_8984c49e_30ef_11ea_b19b_acbc329ded19row6_col0\" class=\"data row6 col0\" >41</td>\n",
       "                        <td id=\"T_8984c49e_30ef_11ea_b19b_acbc329ded19row6_col1\" class=\"data row6 col1\" >$3.60</td>\n",
       "                        <td id=\"T_8984c49e_30ef_11ea_b19b_acbc329ded19row6_col2\" class=\"data row6 col2\" >$147.67</td>\n",
       "                        <td id=\"T_8984c49e_30ef_11ea_b19b_acbc329ded19row6_col3\" class=\"data row6 col3\" >$4.76</td>\n",
       "            </tr>\n",
       "            <tr>\n",
       "                        <th id=\"T_8984c49e_30ef_11ea_b19b_acbc329ded19level0_row7\" class=\"row_heading level0 row7\" >40+</th>\n",
       "                        <td id=\"T_8984c49e_30ef_11ea_b19b_acbc329ded19row7_col0\" class=\"data row7 col0\" >13</td>\n",
       "                        <td id=\"T_8984c49e_30ef_11ea_b19b_acbc329ded19row7_col1\" class=\"data row7 col1\" >$2.94</td>\n",
       "                        <td id=\"T_8984c49e_30ef_11ea_b19b_acbc329ded19row7_col2\" class=\"data row7 col2\" >$38.24</td>\n",
       "                        <td id=\"T_8984c49e_30ef_11ea_b19b_acbc329ded19row7_col3\" class=\"data row7 col3\" >$3.19</td>\n",
       "            </tr>\n",
       "    </tbody></table>"
      ],
      "text/plain": [
       "<pandas.io.formats.style.Styler at 0x11cc2ddd8>"
      ]
     },
     "execution_count": 222,
     "metadata": {},
     "output_type": "execute_result"
    }
   ],
   "source": [
    "Purchasing_Analysis_by_Age = pd.DataFrame({\"Purchase Count\": Purchase_Count_by_Age, \n",
    "                                    \"Average Purchase Price\": Average_Purchase_Price_by_Age['Price'],\n",
    "                                           \"Total Purchase Value\": Total_Purchase_Price_by_Age[\"Price\"],\n",
    "                                           \"Avg Total Purchase per Person\": Avg_Total_Purchase_Person_by_Age\n",
    "                                   })\n",
    "# Format \n",
    "Purchasing_Analysis_by_Age.style.format({\"Average Purchase Price\":\"${:,.2f}\", \"Total Purchase Value\":\"${:,.2f}\", \"Avg Total Purchase per Person\":\"${:,.2f}\"})\n"
   ]
  },
  {
   "cell_type": "markdown",
   "metadata": {},
   "source": [
    "## Top Spenders"
   ]
  },
  {
   "cell_type": "markdown",
   "metadata": {},
   "source": [
    "* Run basic calculations to obtain the results in the table below\n",
    "\n",
    "\n",
    "* Create a summary data frame to hold the results\n",
    "\n",
    "\n",
    "* Sort the total purchase value column in descending order\n",
    "\n",
    "\n",
    "* Optional: give the displayed data cleaner formatting\n",
    "\n",
    "\n",
    "* Display a preview of the summary data frame\n",
    "\n"
   ]
  },
  {
   "cell_type": "code",
   "execution_count": 223,
   "metadata": {},
   "outputs": [
    {
     "data": {
      "text/plain": [
       "SN\n",
       "Adairialis76    1\n",
       "Adastirin33     1\n",
       "Aeda94          1\n",
       "Aela59          1\n",
       "Aelaria33       1\n",
       "Aelastirin39    2\n",
       "Aelidru27       1\n",
       "Aelin32         3\n",
       "Aelly27         2\n",
       "Aellynun67      1\n",
       "Name: Purchase ID, dtype: int64"
      ]
     },
     "execution_count": 223,
     "metadata": {},
     "output_type": "execute_result"
    }
   ],
   "source": [
    "Purchase_Count_Spender = purchase_df.groupby(\"SN\")[\"Purchase ID\"].count()\n",
    "Purchase_Count_Spender.head(10)"
   ]
  },
  {
   "cell_type": "code",
   "execution_count": 224,
   "metadata": {},
   "outputs": [
    {
     "data": {
      "text/plain": [
       "SN\n",
       "Adairialis76    2.280000\n",
       "Adastirin33     4.480000\n",
       "Aeda94          4.910000\n",
       "Aela59          4.320000\n",
       "Aelaria33       1.790000\n",
       "Aelastirin39    3.645000\n",
       "Aelidru27       1.090000\n",
       "Aelin32         2.993333\n",
       "Aelly27         3.395000\n",
       "Aellynun67      3.740000\n",
       "Name: Price, dtype: float64"
      ]
     },
     "execution_count": 224,
     "metadata": {},
     "output_type": "execute_result"
    }
   ],
   "source": [
    "Average_Purchase_Price_Spender = purchase_df.groupby(\"SN\")[\"Price\"].mean()\n",
    "Average_Purchase_Price_Spender.head(10)"
   ]
  },
  {
   "cell_type": "code",
   "execution_count": 225,
   "metadata": {},
   "outputs": [
    {
     "data": {
      "text/plain": [
       "SN\n",
       "Adairialis76    2.28\n",
       "Adastirin33     4.48\n",
       "Aeda94          4.91\n",
       "Aela59          4.32\n",
       "Aelaria33       1.79\n",
       "Aelastirin39    7.29\n",
       "Aelidru27       1.09\n",
       "Aelin32         8.98\n",
       "Aelly27         6.79\n",
       "Aellynun67      3.74\n",
       "Name: Price, dtype: float64"
      ]
     },
     "execution_count": 225,
     "metadata": {},
     "output_type": "execute_result"
    }
   ],
   "source": [
    "Total_Purchase_Value_Spender = purchase_df.groupby(\"SN\")[\"Price\"].sum()\n",
    "Total_Purchase_Value_Spender.head(10)"
   ]
  },
  {
   "cell_type": "code",
   "execution_count": 226,
   "metadata": {},
   "outputs": [
    {
     "data": {
      "text/html": [
       "<style  type=\"text/css\" >\n",
       "</style><table id=\"T_bf5e1638_30ef_11ea_af30_acbc329ded19\" ><thead>    <tr>        <th class=\"blank level0\" ></th>        <th class=\"col_heading level0 col0\" >Purchase Count</th>        <th class=\"col_heading level0 col1\" >Average Purchase Price</th>        <th class=\"col_heading level0 col2\" >Total Purchase Value</th>    </tr>    <tr>        <th class=\"index_name level0\" >SN</th>        <th class=\"blank\" ></th>        <th class=\"blank\" ></th>        <th class=\"blank\" ></th>    </tr></thead><tbody>\n",
       "                <tr>\n",
       "                        <th id=\"T_bf5e1638_30ef_11ea_af30_acbc329ded19level0_row0\" class=\"row_heading level0 row0\" >Lisosia93</th>\n",
       "                        <td id=\"T_bf5e1638_30ef_11ea_af30_acbc329ded19row0_col0\" class=\"data row0 col0\" >5</td>\n",
       "                        <td id=\"T_bf5e1638_30ef_11ea_af30_acbc329ded19row0_col1\" class=\"data row0 col1\" >$3.79</td>\n",
       "                        <td id=\"T_bf5e1638_30ef_11ea_af30_acbc329ded19row0_col2\" class=\"data row0 col2\" >$18.96</td>\n",
       "            </tr>\n",
       "            <tr>\n",
       "                        <th id=\"T_bf5e1638_30ef_11ea_af30_acbc329ded19level0_row1\" class=\"row_heading level0 row1\" >Idastidru52</th>\n",
       "                        <td id=\"T_bf5e1638_30ef_11ea_af30_acbc329ded19row1_col0\" class=\"data row1 col0\" >4</td>\n",
       "                        <td id=\"T_bf5e1638_30ef_11ea_af30_acbc329ded19row1_col1\" class=\"data row1 col1\" >$3.86</td>\n",
       "                        <td id=\"T_bf5e1638_30ef_11ea_af30_acbc329ded19row1_col2\" class=\"data row1 col2\" >$15.45</td>\n",
       "            </tr>\n",
       "            <tr>\n",
       "                        <th id=\"T_bf5e1638_30ef_11ea_af30_acbc329ded19level0_row2\" class=\"row_heading level0 row2\" >Chamjask73</th>\n",
       "                        <td id=\"T_bf5e1638_30ef_11ea_af30_acbc329ded19row2_col0\" class=\"data row2 col0\" >3</td>\n",
       "                        <td id=\"T_bf5e1638_30ef_11ea_af30_acbc329ded19row2_col1\" class=\"data row2 col1\" >$4.61</td>\n",
       "                        <td id=\"T_bf5e1638_30ef_11ea_af30_acbc329ded19row2_col2\" class=\"data row2 col2\" >$13.83</td>\n",
       "            </tr>\n",
       "            <tr>\n",
       "                        <th id=\"T_bf5e1638_30ef_11ea_af30_acbc329ded19level0_row3\" class=\"row_heading level0 row3\" >Iral74</th>\n",
       "                        <td id=\"T_bf5e1638_30ef_11ea_af30_acbc329ded19row3_col0\" class=\"data row3 col0\" >4</td>\n",
       "                        <td id=\"T_bf5e1638_30ef_11ea_af30_acbc329ded19row3_col1\" class=\"data row3 col1\" >$3.40</td>\n",
       "                        <td id=\"T_bf5e1638_30ef_11ea_af30_acbc329ded19row3_col2\" class=\"data row3 col2\" >$13.62</td>\n",
       "            </tr>\n",
       "            <tr>\n",
       "                        <th id=\"T_bf5e1638_30ef_11ea_af30_acbc329ded19level0_row4\" class=\"row_heading level0 row4\" >Iskadarya95</th>\n",
       "                        <td id=\"T_bf5e1638_30ef_11ea_af30_acbc329ded19row4_col0\" class=\"data row4 col0\" >3</td>\n",
       "                        <td id=\"T_bf5e1638_30ef_11ea_af30_acbc329ded19row4_col1\" class=\"data row4 col1\" >$4.37</td>\n",
       "                        <td id=\"T_bf5e1638_30ef_11ea_af30_acbc329ded19row4_col2\" class=\"data row4 col2\" >$13.10</td>\n",
       "            </tr>\n",
       "    </tbody></table>"
      ],
      "text/plain": [
       "<pandas.io.formats.style.Styler at 0x11cbc9828>"
      ]
     },
     "execution_count": 226,
     "metadata": {},
     "output_type": "execute_result"
    }
   ],
   "source": [
    "# Create a DataFrame with the metrics obtained\n",
    "Top_Spenders = pd.DataFrame({\"Purchase Count\": Purchase_Count_Spender,\n",
    "                             \"Average Purchase Price\": Average_Purchase_Price_Spender,\n",
    "                             \"Total Purchase Value\": Total_Purchase_Value_Spender})\n",
    "\n",
    "# Sort in descending order to obtain top 5 spender names \n",
    "Top_Spenders_Formatted = Top_Spenders.sort_values([\"Total Purchase Value\"], ascending=False).head()\n",
    "\n",
    "# Format with currency style\n",
    "Top_Spenders_Formatted.style.format({\"Average Purchase Total\":\"${:,.2f}\",\n",
    "                                 \"Average Purchase Price\":\"${:,.2f}\", \n",
    "                                 \"Total Purchase Value\":\"${:,.2f}\"})"
   ]
  },
  {
   "cell_type": "markdown",
   "metadata": {},
   "source": [
    "## Most Popular Items"
   ]
  },
  {
   "cell_type": "markdown",
   "metadata": {},
   "source": [
    "* Retrieve the Item ID, Item Name, and Item Price columns\n",
    "\n",
    "\n",
    "* Group by Item ID and Item Name. Perform calculations to obtain purchase count, item price, and total purchase value\n",
    "\n",
    "\n",
    "* Create a summary data frame to hold the results\n",
    "\n",
    "\n",
    "* Sort the purchase count column in descending order\n",
    "\n",
    "\n",
    "* Optional: give the displayed data cleaner formatting\n",
    "\n",
    "\n",
    "* Display a preview of the summary data frame\n",
    "\n"
   ]
  },
  {
   "cell_type": "code",
   "execution_count": 227,
   "metadata": {},
   "outputs": [
    {
     "data": {
      "text/plain": [
       "Item_ID  Item_Name         \n",
       "0        Splinter              4\n",
       "1        Crucifer              3\n",
       "2        Verdict               6\n",
       "3        Phantomlight          6\n",
       "4        Bloodlord's Fetish    5\n",
       "Name: Purchase_ID, dtype: int64"
      ]
     },
     "execution_count": 227,
     "metadata": {},
     "output_type": "execute_result"
    }
   ],
   "source": [
    "Purchase_Count_byID_Name = purchase_rename_df.groupby([\"Item_ID\",\"Item_Name\"])[\"Purchase_ID\"].count()\n",
    "Purchase_Count_byID_Name.head()"
   ]
  },
  {
   "cell_type": "code",
   "execution_count": 228,
   "metadata": {},
   "outputs": [
    {
     "data": {
      "text/plain": [
       "Item_ID  Item_Name         \n",
       "0        Splinter              1.28\n",
       "1        Crucifer              3.26\n",
       "2        Verdict               2.48\n",
       "3        Phantomlight          2.49\n",
       "4        Bloodlord's Fetish    1.70\n",
       "Name: Price, dtype: float64"
      ]
     },
     "execution_count": 228,
     "metadata": {},
     "output_type": "execute_result"
    }
   ],
   "source": [
    "Item_Price_byID_Name = purchase_rename_df.groupby([\"Item_ID\",\"Item_Name\"])[\"Price\"].mean()\n",
    "Item_Price_byID_Name.head()"
   ]
  },
  {
   "cell_type": "code",
   "execution_count": 229,
   "metadata": {},
   "outputs": [
    {
     "data": {
      "text/plain": [
       "Item_ID  Item_Name         \n",
       "0        Splinter               5.12\n",
       "1        Crucifer               9.78\n",
       "2        Verdict               14.88\n",
       "3        Phantomlight          14.94\n",
       "4        Bloodlord's Fetish     8.50\n",
       "Name: Price, dtype: float64"
      ]
     },
     "execution_count": 229,
     "metadata": {},
     "output_type": "execute_result"
    }
   ],
   "source": [
    "Total_Purchase_Value_byID_Name = purchase_rename_df.groupby([\"Item_ID\",\"Item_Name\"])[\"Price\"].sum()\n",
    "Total_Purchase_Value_byID_Name.head()"
   ]
  },
  {
   "cell_type": "code",
   "execution_count": 231,
   "metadata": {},
   "outputs": [
    {
     "data": {
      "text/html": [
       "<style  type=\"text/css\" >\n",
       "</style><table id=\"T_34f8e724_30f0_11ea_9d58_acbc329ded19\" ><thead>    <tr>        <th class=\"blank\" ></th>        <th class=\"blank level0\" ></th>        <th class=\"col_heading level0 col0\" >Purchase Count</th>        <th class=\"col_heading level0 col1\" >Item Price</th>        <th class=\"col_heading level0 col2\" >Total Purchase Value</th>    </tr>    <tr>        <th class=\"index_name level0\" >Item_ID</th>        <th class=\"index_name level1\" >Item_Name</th>        <th class=\"blank\" ></th>        <th class=\"blank\" ></th>        <th class=\"blank\" ></th>    </tr></thead><tbody>\n",
       "                <tr>\n",
       "                        <th id=\"T_34f8e724_30f0_11ea_9d58_acbc329ded19level0_row0\" class=\"row_heading level0 row0\" >178</th>\n",
       "                        <th id=\"T_34f8e724_30f0_11ea_9d58_acbc329ded19level1_row0\" class=\"row_heading level1 row0\" >Oathbreaker, Last Hope of the Breaking Storm</th>\n",
       "                        <td id=\"T_34f8e724_30f0_11ea_9d58_acbc329ded19row0_col0\" class=\"data row0 col0\" >12</td>\n",
       "                        <td id=\"T_34f8e724_30f0_11ea_9d58_acbc329ded19row0_col1\" class=\"data row0 col1\" >$4.23</td>\n",
       "                        <td id=\"T_34f8e724_30f0_11ea_9d58_acbc329ded19row0_col2\" class=\"data row0 col2\" >$50.76</td>\n",
       "            </tr>\n",
       "            <tr>\n",
       "                        <th id=\"T_34f8e724_30f0_11ea_9d58_acbc329ded19level0_row1\" class=\"row_heading level0 row1\" >145</th>\n",
       "                        <th id=\"T_34f8e724_30f0_11ea_9d58_acbc329ded19level1_row1\" class=\"row_heading level1 row1\" >Fiery Glass Crusader</th>\n",
       "                        <td id=\"T_34f8e724_30f0_11ea_9d58_acbc329ded19row1_col0\" class=\"data row1 col0\" >9</td>\n",
       "                        <td id=\"T_34f8e724_30f0_11ea_9d58_acbc329ded19row1_col1\" class=\"data row1 col1\" >$4.58</td>\n",
       "                        <td id=\"T_34f8e724_30f0_11ea_9d58_acbc329ded19row1_col2\" class=\"data row1 col2\" >$41.22</td>\n",
       "            </tr>\n",
       "            <tr>\n",
       "                        <th id=\"T_34f8e724_30f0_11ea_9d58_acbc329ded19level0_row2\" class=\"row_heading level0 row2\" >108</th>\n",
       "                        <th id=\"T_34f8e724_30f0_11ea_9d58_acbc329ded19level1_row2\" class=\"row_heading level1 row2\" >Extraction, Quickblade Of Trembling Hands</th>\n",
       "                        <td id=\"T_34f8e724_30f0_11ea_9d58_acbc329ded19row2_col0\" class=\"data row2 col0\" >9</td>\n",
       "                        <td id=\"T_34f8e724_30f0_11ea_9d58_acbc329ded19row2_col1\" class=\"data row2 col1\" >$3.53</td>\n",
       "                        <td id=\"T_34f8e724_30f0_11ea_9d58_acbc329ded19row2_col2\" class=\"data row2 col2\" >$31.77</td>\n",
       "            </tr>\n",
       "            <tr>\n",
       "                        <th id=\"T_34f8e724_30f0_11ea_9d58_acbc329ded19level0_row3\" class=\"row_heading level0 row3\" >82</th>\n",
       "                        <th id=\"T_34f8e724_30f0_11ea_9d58_acbc329ded19level1_row3\" class=\"row_heading level1 row3\" >Nirvana</th>\n",
       "                        <td id=\"T_34f8e724_30f0_11ea_9d58_acbc329ded19row3_col0\" class=\"data row3 col0\" >9</td>\n",
       "                        <td id=\"T_34f8e724_30f0_11ea_9d58_acbc329ded19row3_col1\" class=\"data row3 col1\" >$4.90</td>\n",
       "                        <td id=\"T_34f8e724_30f0_11ea_9d58_acbc329ded19row3_col2\" class=\"data row3 col2\" >$44.10</td>\n",
       "            </tr>\n",
       "            <tr>\n",
       "                        <th id=\"T_34f8e724_30f0_11ea_9d58_acbc329ded19level0_row4\" class=\"row_heading level0 row4\" >19</th>\n",
       "                        <th id=\"T_34f8e724_30f0_11ea_9d58_acbc329ded19level1_row4\" class=\"row_heading level1 row4\" >Pursuit, Cudgel of Necromancy</th>\n",
       "                        <td id=\"T_34f8e724_30f0_11ea_9d58_acbc329ded19row4_col0\" class=\"data row4 col0\" >8</td>\n",
       "                        <td id=\"T_34f8e724_30f0_11ea_9d58_acbc329ded19row4_col1\" class=\"data row4 col1\" >$1.02</td>\n",
       "                        <td id=\"T_34f8e724_30f0_11ea_9d58_acbc329ded19row4_col2\" class=\"data row4 col2\" >$8.16</td>\n",
       "            </tr>\n",
       "    </tbody></table>"
      ],
      "text/plain": [
       "<pandas.io.formats.style.Styler at 0x11ca36cf8>"
      ]
     },
     "execution_count": 231,
     "metadata": {},
     "output_type": "execute_result"
    }
   ],
   "source": [
    "# Create a DataFrame with the metrics obtained\n",
    "MPopular_Items = pd.DataFrame({\"Purchase Count\": Purchase_Count_byID_Name,\n",
    "                             \"Item Price\": Item_Price_byID_Name,\n",
    "                             \"Total Purchase Value\": Total_Purchase_Value_byID_Name})\n",
    "\n",
    "# Sort in descending order to obtain top 5 most popular items \n",
    "MPopular_Items_Formatted = MPopular_Items.sort_values([\"Purchase Count\"], ascending=False).head()\n",
    "\n",
    "# Format with currency style\n",
    "MPopular_Items_Formatted.style.format({\"Item Price\":\"${:,.2f}\",\n",
    "                                  \"Total Purchase Value\":\"${:,.2f}\"})"
   ]
  },
  {
   "cell_type": "markdown",
   "metadata": {},
   "source": [
    "## Most Profitable Items"
   ]
  },
  {
   "cell_type": "markdown",
   "metadata": {},
   "source": [
    "* Sort the above table by total purchase value in descending order\n",
    "\n",
    "\n",
    "* Optional: give the displayed data cleaner formatting\n",
    "\n",
    "\n",
    "* Display a preview of the data frame\n",
    "\n"
   ]
  },
  {
   "cell_type": "code",
   "execution_count": 232,
   "metadata": {},
   "outputs": [
    {
     "data": {
      "text/html": [
       "<style  type=\"text/css\" >\n",
       "</style><table id=\"T_386a2e40_30f0_11ea_8a29_acbc329ded19\" ><thead>    <tr>        <th class=\"blank\" ></th>        <th class=\"blank level0\" ></th>        <th class=\"col_heading level0 col0\" >Purchase Count</th>        <th class=\"col_heading level0 col1\" >Item Price</th>        <th class=\"col_heading level0 col2\" >Total Purchase Value</th>    </tr>    <tr>        <th class=\"index_name level0\" >Item_ID</th>        <th class=\"index_name level1\" >Item_Name</th>        <th class=\"blank\" ></th>        <th class=\"blank\" ></th>        <th class=\"blank\" ></th>    </tr></thead><tbody>\n",
       "                <tr>\n",
       "                        <th id=\"T_386a2e40_30f0_11ea_8a29_acbc329ded19level0_row0\" class=\"row_heading level0 row0\" >178</th>\n",
       "                        <th id=\"T_386a2e40_30f0_11ea_8a29_acbc329ded19level1_row0\" class=\"row_heading level1 row0\" >Oathbreaker, Last Hope of the Breaking Storm</th>\n",
       "                        <td id=\"T_386a2e40_30f0_11ea_8a29_acbc329ded19row0_col0\" class=\"data row0 col0\" >12</td>\n",
       "                        <td id=\"T_386a2e40_30f0_11ea_8a29_acbc329ded19row0_col1\" class=\"data row0 col1\" >$4.23</td>\n",
       "                        <td id=\"T_386a2e40_30f0_11ea_8a29_acbc329ded19row0_col2\" class=\"data row0 col2\" >$50.76</td>\n",
       "            </tr>\n",
       "            <tr>\n",
       "                        <th id=\"T_386a2e40_30f0_11ea_8a29_acbc329ded19level0_row1\" class=\"row_heading level0 row1\" >82</th>\n",
       "                        <th id=\"T_386a2e40_30f0_11ea_8a29_acbc329ded19level1_row1\" class=\"row_heading level1 row1\" >Nirvana</th>\n",
       "                        <td id=\"T_386a2e40_30f0_11ea_8a29_acbc329ded19row1_col0\" class=\"data row1 col0\" >9</td>\n",
       "                        <td id=\"T_386a2e40_30f0_11ea_8a29_acbc329ded19row1_col1\" class=\"data row1 col1\" >$4.90</td>\n",
       "                        <td id=\"T_386a2e40_30f0_11ea_8a29_acbc329ded19row1_col2\" class=\"data row1 col2\" >$44.10</td>\n",
       "            </tr>\n",
       "            <tr>\n",
       "                        <th id=\"T_386a2e40_30f0_11ea_8a29_acbc329ded19level0_row2\" class=\"row_heading level0 row2\" >145</th>\n",
       "                        <th id=\"T_386a2e40_30f0_11ea_8a29_acbc329ded19level1_row2\" class=\"row_heading level1 row2\" >Fiery Glass Crusader</th>\n",
       "                        <td id=\"T_386a2e40_30f0_11ea_8a29_acbc329ded19row2_col0\" class=\"data row2 col0\" >9</td>\n",
       "                        <td id=\"T_386a2e40_30f0_11ea_8a29_acbc329ded19row2_col1\" class=\"data row2 col1\" >$4.58</td>\n",
       "                        <td id=\"T_386a2e40_30f0_11ea_8a29_acbc329ded19row2_col2\" class=\"data row2 col2\" >$41.22</td>\n",
       "            </tr>\n",
       "            <tr>\n",
       "                        <th id=\"T_386a2e40_30f0_11ea_8a29_acbc329ded19level0_row3\" class=\"row_heading level0 row3\" >92</th>\n",
       "                        <th id=\"T_386a2e40_30f0_11ea_8a29_acbc329ded19level1_row3\" class=\"row_heading level1 row3\" >Final Critic</th>\n",
       "                        <td id=\"T_386a2e40_30f0_11ea_8a29_acbc329ded19row3_col0\" class=\"data row3 col0\" >8</td>\n",
       "                        <td id=\"T_386a2e40_30f0_11ea_8a29_acbc329ded19row3_col1\" class=\"data row3 col1\" >$4.88</td>\n",
       "                        <td id=\"T_386a2e40_30f0_11ea_8a29_acbc329ded19row3_col2\" class=\"data row3 col2\" >$39.04</td>\n",
       "            </tr>\n",
       "            <tr>\n",
       "                        <th id=\"T_386a2e40_30f0_11ea_8a29_acbc329ded19level0_row4\" class=\"row_heading level0 row4\" >103</th>\n",
       "                        <th id=\"T_386a2e40_30f0_11ea_8a29_acbc329ded19level1_row4\" class=\"row_heading level1 row4\" >Singed Scalpel</th>\n",
       "                        <td id=\"T_386a2e40_30f0_11ea_8a29_acbc329ded19row4_col0\" class=\"data row4 col0\" >8</td>\n",
       "                        <td id=\"T_386a2e40_30f0_11ea_8a29_acbc329ded19row4_col1\" class=\"data row4 col1\" >$4.35</td>\n",
       "                        <td id=\"T_386a2e40_30f0_11ea_8a29_acbc329ded19row4_col2\" class=\"data row4 col2\" >$34.80</td>\n",
       "            </tr>\n",
       "    </tbody></table>"
      ],
      "text/plain": [
       "<pandas.io.formats.style.Styler at 0x11cc0ae48>"
      ]
     },
     "execution_count": 232,
     "metadata": {},
     "output_type": "execute_result"
    }
   ],
   "source": [
    "# Create a DataFrame with the metrics obtained\n",
    "MProfitable_Items = pd.DataFrame({\"Purchase Count\": Purchase_Count_byID_Name,\n",
    "                             \"Item Price\": Item_Price_byID_Name,\n",
    "                             \"Total Purchase Value\": Total_Purchase_Value_byID_Name})\n",
    "\n",
    "# Sort in descending order to obtain top 5 most profitable items \n",
    "MProfitable_Items_Formatted = MProfitable_Items.sort_values([\"Total Purchase Value\"], ascending=False).head()\n",
    "\n",
    "# Format with currency style\n",
    "MProfitable_Items_Formatted.style.format({\"Item Price\":\"${:,.2f}\",\n",
    "                                  \"Total Purchase Value\":\"${:,.2f}\"})"
   ]
  },
  {
   "cell_type": "code",
   "execution_count": null,
   "metadata": {},
   "outputs": [],
   "source": []
  }
 ],
 "metadata": {
  "anaconda-cloud": {},
  "kernel_info": {
   "name": "python3"
  },
  "kernelspec": {
   "display_name": "Python 3",
   "language": "python",
   "name": "python3"
  },
  "language_info": {
   "codemirror_mode": {
    "name": "ipython",
    "version": 3
   },
   "file_extension": ".py",
   "mimetype": "text/x-python",
   "name": "python",
   "nbconvert_exporter": "python",
   "pygments_lexer": "ipython3",
   "version": "3.6.9"
  },
  "latex_envs": {
   "LaTeX_envs_menu_present": true,
   "autoclose": false,
   "autocomplete": true,
   "bibliofile": "biblio.bib",
   "cite_by": "apalike",
   "current_citInitial": 1,
   "eqLabelWithNumbers": true,
   "eqNumInitial": 1,
   "hotkeys": {
    "equation": "Ctrl-E",
    "itemize": "Ctrl-I"
   },
   "labels_anchors": false,
   "latex_user_defs": false,
   "report_style_numbering": false,
   "user_envs_cfg": false
  },
  "nteract": {
   "version": "0.2.0"
  }
 },
 "nbformat": 4,
 "nbformat_minor": 2
}
